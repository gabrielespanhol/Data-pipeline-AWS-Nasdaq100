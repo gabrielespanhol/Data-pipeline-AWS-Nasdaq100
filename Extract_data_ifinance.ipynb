{
 "cells": [
  {
   "cell_type": "code",
   "execution_count": 1,
   "id": "13dd713f",
   "metadata": {},
   "outputs": [],
   "source": [
    "import yfinance as yf\n",
    "import pandas as pd\n",
    "import awswrangler as wr\n",
    "import boto3"
   ]
  },
  {
   "cell_type": "code",
   "execution_count": 2,
   "id": "9223d460",
   "metadata": {},
   "outputs": [
    {
     "name": "stderr",
     "output_type": "stream",
     "text": [
      "C:\\Users\\gabriel\\AppData\\Local\\Temp\\ipykernel_13724\\201727266.py:15: FutureWarning: YF.download() has changed argument auto_adjust default to True\n",
      "  data = yf.download(tickers, period='3mo')\n",
      "[*********************100%***********************]  101 of 101 completed\n"
     ]
    }
   ],
   "source": [
    "# nasdaq_100\n",
    "tickers = [\n",
    "    \"ADBE\",\"AMD\",\"ABNB\",\"GOOGL\",\"GOOG\",\"AMZN\",\"AEP\",\"AMGN\",\"ADI\",\"AAPL\",\n",
    "    \"AMAT\",\"APP\",\"ARM\",\"ASML\",\"AZN\",\"TEAM\",\"ADSK\",\"ADP\",\"AXON\",\"BKR\",\n",
    "    \"BIIB\",\"BKNG\",\"AVGO\",\"CDNS\",\"CDW\",\"CHTR\",\"CTAS\",\"CSCO\",\"CCEP\",\"CTSH\",\n",
    "    \"CMCSA\",\"CEG\",\"CPRT\",\"CSGP\",\"COST\",\"CRWD\",\"CSX\",\"DDOG\",\"DXCM\",\"FANG\",\n",
    "    \"DASH\",\"EA\",\"EXC\",\"FAST\",\"FTNT\",\"GEHC\",\"GILD\",\"GFS\",\"HON\",\"IDXX\",\n",
    "    \"INTC\",\"INTU\",\"ISRG\",\"KDP\",\"KLAC\",\"KHC\",\"LRCX\",\"LIN\",\"LULU\",\"MAR\",\n",
    "    \"MRVL\",\"MELI\",\"META\",\"MCHP\",\"MU\",\"MSFT\",\"MSTR\",\"MDLZ\",\"MNST\",\"NFLX\",\n",
    "    \"NVDA\",\"NXPI\",\"ORLY\",\"ODFL\",\"ON\",\"PCAR\",\"PLTR\",\"PANW\",\"PAYX\",\"PYPL\",\n",
    "    \"PDD\",\"PEP\",\"QCOM\",\"REGN\",\"ROP\",\"ROST\",\"SHOP\",\"SBUX\",\"SNPS\",\"TMUS\",\n",
    "    \"TTWO\",\"TSLA\",\"TXN\",\"TRI\",\"TTD\",\"VRSK\",\"VRTX\",\"WBD\",\"WDAY\",\"XEL\",\"ZS\"\n",
    "]\n",
    "\n",
    "data = yf.download(tickers, period='3mo')"
   ]
  },
  {
   "cell_type": "code",
   "execution_count": 3,
   "id": "f50aa483",
   "metadata": {},
   "outputs": [
    {
     "name": "stdout",
     "output_type": "stream",
     "text": [
      "           Date Ticker        Open        High         Low       Close  \\\n",
      "0    2025-07-07   AAPL  212.438891  215.984870  208.563300  209.711990   \n",
      "1    2025-07-08   AAPL  209.861836  211.190315  208.213698  209.771927   \n",
      "2    2025-07-09   AAPL  209.292475  211.090437  206.985096  210.900650   \n",
      "3    2025-07-10   AAPL  210.271350  213.237984  209.791898  212.169205   \n",
      "4    2025-07-11   AAPL  210.331296  211.889525  209.622094  210.920624   \n",
      "...         ...    ...         ...         ...         ...         ...   \n",
      "6560 2025-09-30     ZS  295.839996  300.209991  291.570007  299.660004   \n",
      "6561 2025-10-01     ZS  298.609985  305.910004  297.135010  304.529999   \n",
      "6562 2025-10-02     ZS  306.000000  307.790009  302.149994  307.579987   \n",
      "6563 2025-10-03     ZS  308.070007  309.790009  301.709991  305.410004   \n",
      "6564 2025-10-06     ZS  307.399994  309.119995  303.769501  307.364288   \n",
      "\n",
      "        Volume  \n",
      "0     50229000  \n",
      "1     42848900  \n",
      "2     48749400  \n",
      "3     44443600  \n",
      "4     39765800  \n",
      "...        ...  \n",
      "6560   1886200  \n",
      "6561   1921100  \n",
      "6562   1247400  \n",
      "6563    977600  \n",
      "6564    321718  \n",
      "\n",
      "[6565 rows x 7 columns]\n"
     ]
    }
   ],
   "source": [
    "df_reset = data.copy().reset_index()  # transforma 'Date' em coluna\n",
    "\n",
    "\n",
    "dfs = []\n",
    "for ticker in data.columns.levels[1]:  \n",
    "    temp = pd.DataFrame({\n",
    "        \"Date\": df_reset[\"Date\"],\n",
    "        \"Ticker\": ticker,\n",
    "        \"Open\": df_reset[(\"Open\", ticker)],\n",
    "        \"High\": df_reset[(\"High\", ticker)],\n",
    "        \"Low\": df_reset[(\"Low\", ticker)],\n",
    "        \"Close\": df_reset[(\"Close\", ticker)],\n",
    "        \"Volume\": df_reset[(\"Volume\", ticker)],\n",
    "    })\n",
    "    dfs.append(temp)\n",
    "\n",
    "df_final = pd.concat(dfs, ignore_index=True)\n",
    "\n",
    "df_final.to_parquet(\n",
    "    \"nasdaq_data_parquet\",\n",
    "    engine=\"pyarrow\",\n",
    "    partition_cols=[\"Date\"],\n",
    "    index=False\n",
    ")\n",
    "\n",
    "print(df_final)"
   ]
  },
  {
   "cell_type": "code",
   "execution_count": 4,
   "id": "5871a40a",
   "metadata": {},
   "outputs": [
    {
     "name": "stdout",
     "output_type": "stream",
     "text": [
      "Dados salvos em s3://dados-gabriel-espanhol/raw/\n"
     ]
    }
   ],
   "source": [
    "df_final['Date'] = pd.to_datetime(df_final['Date'])\n",
    "df_final['ano'] = df_final['Date'].dt.year\n",
    "df_final['mes'] = df_final['Date'].dt.month\n",
    "df_final['dia'] = df_final['Date'].dt.day\n",
    "\n",
    "s3_path = \"s3://dados-gabriel-espanhol/raw/\"\n",
    "\n",
    "# Iterar sobre cada partição\n",
    "for (ano, mes, dia), df_part in df_final.groupby([\"ano\", \"mes\", \"dia\"]):\n",
    "    \n",
    "    path_part = f\"{s3_path}{ano}/{mes:02d}/{dia:02d}/data.parquet\"\n",
    "\n",
    "    wr.s3.to_parquet(\n",
    "        df=df_part,\n",
    "        path=path_part,\n",
    "        dataset=False  # salva como arquivo simples\n",
    "    )\n",
    "  \n",
    "    # time.sleep(5)  # delay entre as partições\n",
    "\n",
    "print(f\"Dados salvos em {s3_path}\")"
   ]
  },
  {
   "cell_type": "code",
   "execution_count": 5,
   "id": "33b9ee00",
   "metadata": {},
   "outputs": [
    {
     "name": "stdout",
     "output_type": "stream",
     "text": [
      "Envia o arquivo para s3://dados-gabriel-espanhol/start_job.txt\n"
     ]
    }
   ],
   "source": [
    "s3 = boto3.client(\"s3\")\n",
    "\n",
    "bucket = \"dados-gabriel-espanhol\"\n",
    "chave = \"start_job.txt\"\n",
    "\n",
    "conteudo = \"start glue job\"\n",
    "\n",
    "# Upload a partir de string\n",
    "s3.put_object(Bucket=bucket, Key=chave, Body=conteudo.encode(\"utf-8\"))\n",
    "\n",
    "print(f\"Envia o arquivo para s3://{bucket}/{chave}\")"
   ]
  },
  {
   "cell_type": "code",
   "execution_count": null,
   "id": "1ff8ee52",
   "metadata": {},
   "outputs": [],
   "source": []
  }
 ],
 "metadata": {
  "kernelspec": {
   "display_name": "venvboto3",
   "language": "python",
   "name": "python3"
  },
  "language_info": {
   "codemirror_mode": {
    "name": "ipython",
    "version": 3
   },
   "file_extension": ".py",
   "mimetype": "text/x-python",
   "name": "python",
   "nbconvert_exporter": "python",
   "pygments_lexer": "ipython3",
   "version": "3.11.6"
  }
 },
 "nbformat": 4,
 "nbformat_minor": 5
}
